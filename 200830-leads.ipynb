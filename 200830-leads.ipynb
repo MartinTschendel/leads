{
 "cells": [
  {
   "cell_type": "code",
   "execution_count": 1,
   "metadata": {},
   "outputs": [],
   "source": [
    "import pandas as pd\n",
    "import numpy as np\n",
    "\n",
    "import seaborn as sns\n",
    "from matplotlib import pyplot as plt\n",
    "%matplotlib inline"
   ]
  },
  {
   "cell_type": "code",
   "execution_count": 2,
   "metadata": {},
   "outputs": [],
   "source": [
    "df = pd.read_csv('data/dataset.csv')"
   ]
  },
  {
   "cell_type": "code",
   "execution_count": 3,
   "metadata": {},
   "outputs": [],
   "source": [
    "#column names & string values: lowercasing everything and replace spaces with underscore\n",
    "df.columns = df.columns.str.lower().str.replace(' ', '_')\n",
    "string_columns = list(df.dtypes[df.dtypes == 'object'].index)\n",
    "\n",
    "for col in string_columns:\n",
    "    df[col] = df[col].str.lower().str.replace(' ', '_')"
   ]
  },
  {
   "cell_type": "code",
   "execution_count": 4,
   "metadata": {},
   "outputs": [
    {
     "name": "stdout",
     "output_type": "stream",
     "text": [
      "<class 'pandas.core.frame.DataFrame'>\n",
      "RangeIndex: 9240 entries, 0 to 9239\n",
      "Data columns (total 37 columns):\n",
      "prospect_id                                      9240 non-null object\n",
      "lead_number                                      9240 non-null int64\n",
      "lead_origin                                      9240 non-null object\n",
      "lead_source                                      9204 non-null object\n",
      "do_not_email                                     9240 non-null object\n",
      "do_not_call                                      9240 non-null object\n",
      "converted                                        9240 non-null int64\n",
      "totalvisits                                      9103 non-null float64\n",
      "total_time_spent_on_website                      9240 non-null int64\n",
      "page_views_per_visit                             9103 non-null float64\n",
      "last_activity                                    9137 non-null object\n",
      "country                                          6779 non-null object\n",
      "specialization                                   7802 non-null object\n",
      "how_did_you_hear_about_x_education               7033 non-null object\n",
      "what_is_your_current_occupation                  6550 non-null object\n",
      "what_matters_most_to_you_in_choosing_a_course    6531 non-null object\n",
      "search                                           9240 non-null object\n",
      "magazine                                         9240 non-null object\n",
      "newspaper_article                                9240 non-null object\n",
      "x_education_forums                               9240 non-null object\n",
      "newspaper                                        9240 non-null object\n",
      "digital_advertisement                            9240 non-null object\n",
      "through_recommendations                          9240 non-null object\n",
      "receive_more_updates_about_our_courses           9240 non-null object\n",
      "tags                                             5887 non-null object\n",
      "lead_quality                                     4473 non-null object\n",
      "update_me_on_supply_chain_content                9240 non-null object\n",
      "get_updates_on_dm_content                        9240 non-null object\n",
      "lead_profile                                     6531 non-null object\n",
      "city                                             7820 non-null object\n",
      "asymmetrique_activity_index                      5022 non-null object\n",
      "asymmetrique_profile_index                       5022 non-null object\n",
      "asymmetrique_activity_score                      5022 non-null float64\n",
      "asymmetrique_profile_score                       5022 non-null float64\n",
      "i_agree_to_pay_the_amount_through_cheque         9240 non-null object\n",
      "a_free_copy_of_mastering_the_interview           9240 non-null object\n",
      "last_notable_activity                            9240 non-null object\n",
      "dtypes: float64(4), int64(3), object(30)\n",
      "memory usage: 2.6+ MB\n"
     ]
    }
   ],
   "source": [
    "df.info()"
   ]
  },
  {
   "cell_type": "code",
   "execution_count": 5,
   "metadata": {},
   "outputs": [
    {
     "data": {
      "text/plain": [
       "prospect_id                                         0\n",
       "lead_number                                         0\n",
       "lead_origin                                         0\n",
       "lead_source                                        36\n",
       "do_not_email                                        0\n",
       "do_not_call                                         0\n",
       "converted                                           0\n",
       "totalvisits                                       137\n",
       "total_time_spent_on_website                         0\n",
       "page_views_per_visit                              137\n",
       "last_activity                                     103\n",
       "country                                          2461\n",
       "specialization                                   1438\n",
       "how_did_you_hear_about_x_education               2207\n",
       "what_is_your_current_occupation                  2690\n",
       "what_matters_most_to_you_in_choosing_a_course    2709\n",
       "search                                              0\n",
       "magazine                                            0\n",
       "newspaper_article                                   0\n",
       "x_education_forums                                  0\n",
       "newspaper                                           0\n",
       "digital_advertisement                               0\n",
       "through_recommendations                             0\n",
       "receive_more_updates_about_our_courses              0\n",
       "tags                                             3353\n",
       "lead_quality                                     4767\n",
       "update_me_on_supply_chain_content                   0\n",
       "get_updates_on_dm_content                           0\n",
       "lead_profile                                     2709\n",
       "city                                             1420\n",
       "asymmetrique_activity_index                      4218\n",
       "asymmetrique_profile_index                       4218\n",
       "asymmetrique_activity_score                      4218\n",
       "asymmetrique_profile_score                       4218\n",
       "i_agree_to_pay_the_amount_through_cheque            0\n",
       "a_free_copy_of_mastering_the_interview              0\n",
       "last_notable_activity                               0\n",
       "dtype: int64"
      ]
     },
     "execution_count": 5,
     "metadata": {},
     "output_type": "execute_result"
    }
   ],
   "source": [
    "#getting the number of NaN values in every column\n",
    "df.isnull().sum()"
   ]
  },
  {
   "cell_type": "markdown",
   "metadata": {},
   "source": [
    "Many columns have missing values. Below I use different imputation methods to replace<br>\n",
    "the missing values"
   ]
  },
  {
   "cell_type": "code",
   "execution_count": 6,
   "metadata": {},
   "outputs": [],
   "source": [
    "#totalvisits has 137 missing values\n",
    "#use fillna() method to replace missing values with mean value\n",
    "df['totalvisits'].fillna(df['totalvisits'].mean(), inplace = True)\n",
    "df['page_views_per_visit'].fillna(df['page_views_per_visit'].mean(), inplace = True)\n",
    "df['asymmetrique_activity_score'].fillna(df['asymmetrique_activity_score'].mean(), inplace = True)\n",
    "df['asymmetrique_profile_score'].fillna(df['asymmetrique_profile_score'].mean(), inplace = True)\n"
   ]
  },
  {
   "cell_type": "code",
   "execution_count": 7,
   "metadata": {},
   "outputs": [],
   "source": [
    "#get one list with categorical and one list with numerical features\n",
    "#'prospect_id' is not included in the model building\n",
    "categorical = [#'prospect_id',\n",
    " 'lead_origin',\n",
    " 'lead_source',\n",
    " 'do_not_email',\n",
    " 'do_not_call',\n",
    " 'last_activity',\n",
    " 'country',\n",
    " 'specialization',\n",
    " 'how_did_you_hear_about_x_education',\n",
    " 'what_is_your_current_occupation',\n",
    " 'what_matters_most_to_you_in_choosing_a_course',\n",
    " 'search',\n",
    " 'magazine',\n",
    " 'newspaper_article',\n",
    " 'x_education_forums',\n",
    " 'newspaper',\n",
    " 'digital_advertisement',\n",
    " 'through_recommendations',\n",
    " 'receive_more_updates_about_our_courses',\n",
    " 'tags',\n",
    " 'lead_quality',\n",
    " 'update_me_on_supply_chain_content',\n",
    " 'get_updates_on_dm_content',\n",
    " 'lead_profile',\n",
    " 'city',\n",
    " 'asymmetrique_activity_index',\n",
    " 'asymmetrique_profile_index',\n",
    " 'i_agree_to_pay_the_amount_through_cheque',\n",
    " 'a_free_copy_of_mastering_the_interview',\n",
    " 'last_notable_activity']\n",
    "numerical = ['lead_number',\n",
    " 'totalvisits',\n",
    " 'total_time_spent_on_website',\n",
    " 'page_views_per_visit',\n",
    " 'asymmetrique_activity_score',\n",
    " 'asymmetrique_profile_score']"
   ]
  },
  {
   "cell_type": "code",
   "execution_count": 8,
   "metadata": {},
   "outputs": [
    {
     "name": "stdout",
     "output_type": "stream",
     "text": [
      "0\n",
      "0\n",
      "0\n",
      "0\n",
      "0\n",
      "0\n"
     ]
    }
   ],
   "source": [
    "#check if any of the numerical variables still have NaN values\n",
    "n = 0\n",
    "for n in numerical:\n",
    "    print(df[n].isnull().sum())\n",
    "    n =+ 1"
   ]
  },
  {
   "cell_type": "code",
   "execution_count": 9,
   "metadata": {},
   "outputs": [],
   "source": [
    "#for 'lead_source', use impuation method 'most common class'\n",
    "df['lead_source'].fillna(df['lead_source'].value_counts().index[0], inplace=True)"
   ]
  },
  {
   "cell_type": "code",
   "execution_count": 10,
   "metadata": {},
   "outputs": [],
   "source": [
    "#for 'last_activity', use impution method 'most common class'\n",
    "df['last_activity'].fillna(df['last_activity'].value_counts().index[0], inplace=True)"
   ]
  },
  {
   "cell_type": "code",
   "execution_count": 11,
   "metadata": {},
   "outputs": [],
   "source": [
    "#for 'country', we use imputation method 'unknown' class\n",
    "df['country'].fillna(\"unknown\", inplace=True)\n",
    "df['specialization'].fillna(\"unknown\", inplace=True)\n",
    "df['how_did_you_hear_about_x_education'].fillna(\"unknown\", inplace=True)\n",
    "df['what_is_your_current_occupation'].fillna(\"unknown\", inplace=True)\n",
    "df['what_matters_most_to_you_in_choosing_a_course'].fillna(\"unknown\", inplace=True)\n",
    "df['lead_quality'].fillna(\"unknown\", inplace=True)\n",
    "df['tags'].fillna(\"unknown\", inplace=True)\n",
    "df['lead_profile'].fillna(\"unknown\", inplace=True)\n",
    "df['city'].fillna(\"unknown\", inplace=True)\n",
    "df['asymmetrique_activity_index'].fillna(\"unknown\", inplace=True)\n",
    "df['asymmetrique_profile_index'].fillna(\"unknown\", inplace=True)"
   ]
  },
  {
   "cell_type": "code",
   "execution_count": 12,
   "metadata": {},
   "outputs": [
    {
     "data": {
      "text/plain": [
       "prospect_id                                      0\n",
       "lead_number                                      0\n",
       "lead_origin                                      0\n",
       "lead_source                                      0\n",
       "do_not_email                                     0\n",
       "do_not_call                                      0\n",
       "converted                                        0\n",
       "totalvisits                                      0\n",
       "total_time_spent_on_website                      0\n",
       "page_views_per_visit                             0\n",
       "last_activity                                    0\n",
       "country                                          0\n",
       "specialization                                   0\n",
       "how_did_you_hear_about_x_education               0\n",
       "what_is_your_current_occupation                  0\n",
       "what_matters_most_to_you_in_choosing_a_course    0\n",
       "search                                           0\n",
       "magazine                                         0\n",
       "newspaper_article                                0\n",
       "x_education_forums                               0\n",
       "newspaper                                        0\n",
       "digital_advertisement                            0\n",
       "through_recommendations                          0\n",
       "receive_more_updates_about_our_courses           0\n",
       "tags                                             0\n",
       "lead_quality                                     0\n",
       "update_me_on_supply_chain_content                0\n",
       "get_updates_on_dm_content                        0\n",
       "lead_profile                                     0\n",
       "city                                             0\n",
       "asymmetrique_activity_index                      0\n",
       "asymmetrique_profile_index                       0\n",
       "asymmetrique_activity_score                      0\n",
       "asymmetrique_profile_score                       0\n",
       "i_agree_to_pay_the_amount_through_cheque         0\n",
       "a_free_copy_of_mastering_the_interview           0\n",
       "last_notable_activity                            0\n",
       "dtype: int64"
      ]
     },
     "execution_count": 12,
     "metadata": {},
     "output_type": "execute_result"
    }
   ],
   "source": [
    "#checking if there are still any NaN values\n",
    "df.isnull().sum()"
   ]
  },
  {
   "cell_type": "code",
   "execution_count": 13,
   "metadata": {},
   "outputs": [],
   "source": [
    "#splitting the dataset in different subsets\n",
    "from sklearn.model_selection import train_test_split"
   ]
  },
  {
   "cell_type": "code",
   "execution_count": 14,
   "metadata": {},
   "outputs": [],
   "source": [
    "#shuffling the data of df and splitting it into 2 sets\n",
    "#df_train_full (80%), df_test(20%)\n",
    "#random_state guarantees that the data is always shuffled in the same way\n",
    "df_train_full, df_test = train_test_split(df, test_size=0.2, random_state=1)"
   ]
  },
  {
   "cell_type": "code",
   "execution_count": 15,
   "metadata": {},
   "outputs": [],
   "source": [
    "#take df_train_full and split it into train and val\n",
    "df_train, df_val = train_test_split(df_train_full, test_size=0.33, random_state=11)\n",
    "#save target value in matrix array\n",
    "y_train = df_train.converted.values\n",
    "y_val = df_val.converted.values\n",
    "#delete target variable from training and validation set\n",
    "del df_train['converted']\n",
    "del df_val['converted']"
   ]
  },
  {
   "cell_type": "code",
   "execution_count": 16,
   "metadata": {},
   "outputs": [
    {
     "data": {
      "text/plain": [
       "0    4560\n",
       "1    2832\n",
       "Name: converted, dtype: int64"
      ]
     },
     "execution_count": 16,
     "metadata": {},
     "output_type": "execute_result"
    }
   ],
   "source": [
    "#check distribution of target variable\n",
    "#two thirds did not convert\n",
    "df_train_full.converted.value_counts()"
   ]
  },
  {
   "cell_type": "code",
   "execution_count": 17,
   "metadata": {},
   "outputs": [
    {
     "data": {
      "text/plain": [
       "0.38312"
      ]
     },
     "execution_count": 17,
     "metadata": {},
     "output_type": "execute_result"
    }
   ],
   "source": [
    "#get conversion rate\n",
    "#it seems to be an inbalanced dataset\n",
    "global_mean = df_train_full.converted.mean()\n",
    "round(global_mean, 5)"
   ]
  },
  {
   "cell_type": "markdown",
   "metadata": {},
   "source": [
    "<b>Mutual Information (MI)</b>\n",
    "* tells us how much info we learn about one variable if we know the value of other variables\n",
    "* we use it to measure mutual dependency between 2 variables\n",
    "* higher mutual info means higher dependency\n",
    "* MI only works for categorical but not for numerical variables"
   ]
  },
  {
   "cell_type": "code",
   "execution_count": 18,
   "metadata": {},
   "outputs": [
    {
     "data": {
      "text/html": [
       "<div>\n",
       "<style scoped>\n",
       "    .dataframe tbody tr th:only-of-type {\n",
       "        vertical-align: middle;\n",
       "    }\n",
       "\n",
       "    .dataframe tbody tr th {\n",
       "        vertical-align: top;\n",
       "    }\n",
       "\n",
       "    .dataframe thead th {\n",
       "        text-align: right;\n",
       "    }\n",
       "</style>\n",
       "<table border=\"1\" class=\"dataframe\">\n",
       "  <thead>\n",
       "    <tr style=\"text-align: right;\">\n",
       "      <th></th>\n",
       "      <th>MI</th>\n",
       "    </tr>\n",
       "  </thead>\n",
       "  <tbody>\n",
       "    <tr>\n",
       "      <td>tags</td>\n",
       "      <td>3.769913e-01</td>\n",
       "    </tr>\n",
       "    <tr>\n",
       "      <td>lead_quality</td>\n",
       "      <td>1.861223e-01</td>\n",
       "    </tr>\n",
       "    <tr>\n",
       "      <td>lead_profile</td>\n",
       "      <td>1.138871e-01</td>\n",
       "    </tr>\n",
       "    <tr>\n",
       "      <td>what_is_your_current_occupation</td>\n",
       "      <td>9.238140e-02</td>\n",
       "    </tr>\n",
       "    <tr>\n",
       "      <td>last_activity</td>\n",
       "      <td>8.462909e-02</td>\n",
       "    </tr>\n",
       "    <tr>\n",
       "      <td>last_notable_activity</td>\n",
       "      <td>7.251663e-02</td>\n",
       "    </tr>\n",
       "    <tr>\n",
       "      <td>lead_source</td>\n",
       "      <td>6.123760e-02</td>\n",
       "    </tr>\n",
       "    <tr>\n",
       "      <td>what_matters_most_to_you_in_choosing_a_course</td>\n",
       "      <td>5.569131e-02</td>\n",
       "    </tr>\n",
       "    <tr>\n",
       "      <td>lead_origin</td>\n",
       "      <td>5.559875e-02</td>\n",
       "    </tr>\n",
       "    <tr>\n",
       "      <td>how_did_you_hear_about_x_education</td>\n",
       "      <td>4.773990e-02</td>\n",
       "    </tr>\n",
       "    <tr>\n",
       "      <td>specialization</td>\n",
       "      <td>3.784505e-02</td>\n",
       "    </tr>\n",
       "    <tr>\n",
       "      <td>city</td>\n",
       "      <td>3.601412e-02</td>\n",
       "    </tr>\n",
       "    <tr>\n",
       "      <td>asymmetrique_activity_index</td>\n",
       "      <td>1.161577e-02</td>\n",
       "    </tr>\n",
       "    <tr>\n",
       "      <td>asymmetrique_profile_index</td>\n",
       "      <td>8.982885e-03</td>\n",
       "    </tr>\n",
       "    <tr>\n",
       "      <td>do_not_email</td>\n",
       "      <td>8.910986e-03</td>\n",
       "    </tr>\n",
       "    <tr>\n",
       "      <td>country</td>\n",
       "      <td>4.983645e-03</td>\n",
       "    </tr>\n",
       "    <tr>\n",
       "      <td>a_free_copy_of_mastering_the_interview</td>\n",
       "      <td>7.452385e-04</td>\n",
       "    </tr>\n",
       "    <tr>\n",
       "      <td>through_recommendations</td>\n",
       "      <td>1.505137e-04</td>\n",
       "    </tr>\n",
       "    <tr>\n",
       "      <td>digital_advertisement</td>\n",
       "      <td>1.307250e-04</td>\n",
       "    </tr>\n",
       "    <tr>\n",
       "      <td>do_not_call</td>\n",
       "      <td>1.298057e-04</td>\n",
       "    </tr>\n",
       "    <tr>\n",
       "      <td>newspaper_article</td>\n",
       "      <td>1.298057e-04</td>\n",
       "    </tr>\n",
       "    <tr>\n",
       "      <td>newspaper</td>\n",
       "      <td>6.535683e-05</td>\n",
       "    </tr>\n",
       "    <tr>\n",
       "      <td>search</td>\n",
       "      <td>1.204580e-06</td>\n",
       "    </tr>\n",
       "    <tr>\n",
       "      <td>get_updates_on_dm_content</td>\n",
       "      <td>7.771561e-16</td>\n",
       "    </tr>\n",
       "    <tr>\n",
       "      <td>magazine</td>\n",
       "      <td>7.771561e-16</td>\n",
       "    </tr>\n",
       "    <tr>\n",
       "      <td>x_education_forums</td>\n",
       "      <td>7.771561e-16</td>\n",
       "    </tr>\n",
       "    <tr>\n",
       "      <td>receive_more_updates_about_our_courses</td>\n",
       "      <td>7.771561e-16</td>\n",
       "    </tr>\n",
       "    <tr>\n",
       "      <td>i_agree_to_pay_the_amount_through_cheque</td>\n",
       "      <td>7.771561e-16</td>\n",
       "    </tr>\n",
       "    <tr>\n",
       "      <td>update_me_on_supply_chain_content</td>\n",
       "      <td>7.771561e-16</td>\n",
       "    </tr>\n",
       "  </tbody>\n",
       "</table>\n",
       "</div>"
      ],
      "text/plain": [
       "                                                         MI\n",
       "tags                                           3.769913e-01\n",
       "lead_quality                                   1.861223e-01\n",
       "lead_profile                                   1.138871e-01\n",
       "what_is_your_current_occupation                9.238140e-02\n",
       "last_activity                                  8.462909e-02\n",
       "last_notable_activity                          7.251663e-02\n",
       "lead_source                                    6.123760e-02\n",
       "what_matters_most_to_you_in_choosing_a_course  5.569131e-02\n",
       "lead_origin                                    5.559875e-02\n",
       "how_did_you_hear_about_x_education             4.773990e-02\n",
       "specialization                                 3.784505e-02\n",
       "city                                           3.601412e-02\n",
       "asymmetrique_activity_index                    1.161577e-02\n",
       "asymmetrique_profile_index                     8.982885e-03\n",
       "do_not_email                                   8.910986e-03\n",
       "country                                        4.983645e-03\n",
       "a_free_copy_of_mastering_the_interview         7.452385e-04\n",
       "through_recommendations                        1.505137e-04\n",
       "digital_advertisement                          1.307250e-04\n",
       "do_not_call                                    1.298057e-04\n",
       "newspaper_article                              1.298057e-04\n",
       "newspaper                                      6.535683e-05\n",
       "search                                         1.204580e-06\n",
       "get_updates_on_dm_content                      7.771561e-16\n",
       "magazine                                       7.771561e-16\n",
       "x_education_forums                             7.771561e-16\n",
       "receive_more_updates_about_our_courses         7.771561e-16\n",
       "i_agree_to_pay_the_amount_through_cheque       7.771561e-16\n",
       "update_me_on_supply_chain_content              7.771561e-16"
      ]
     },
     "execution_count": 18,
     "metadata": {},
     "output_type": "execute_result"
    }
   ],
   "source": [
    "#get mutual info of all categorical variables\n",
    "#... most useful, ... least useful variable\n",
    "from sklearn.metrics import mutual_info_score\n",
    "\n",
    "#this function calculates mutual information\n",
    "def calculate_mi(series):\n",
    "    return mutual_info_score(series, df_train_full.converted)\n",
    "\n",
    "df_mi = df_train_full[categorical].apply(calculate_mi)\n",
    "df_mi = df_mi.sort_values(ascending=False).to_frame(name='MI')\n",
    "df_mi"
   ]
  },
  {
   "cell_type": "code",
   "execution_count": 19,
   "metadata": {},
   "outputs": [
    {
     "data": {
      "text/plain": [
       "lead_number                    0.021904\n",
       "totalvisits                    0.033282\n",
       "total_time_spent_on_website    0.363470\n",
       "page_views_per_visit           0.001532\n",
       "asymmetrique_activity_score    0.122210\n",
       "asymmetrique_profile_score     0.165779\n",
       "dtype: float64"
      ]
     },
     "execution_count": 19,
     "metadata": {},
     "output_type": "execute_result"
    }
   ],
   "source": [
    "#calculate correlation coefficient between numerical features and target variable\n",
    "df_train_full[numerical].corrwith(df_train_full.converted)"
   ]
  },
  {
   "cell_type": "code",
   "execution_count": 20,
   "metadata": {},
   "outputs": [],
   "source": [
    "def prepare_X(df_inp):\n",
    "    #convert training set to dictionary\n",
    "    train_dict = df_inp[categorical + numerical].to_dict(orient='rows')\n",
    "    from sklearn.feature_extraction import DictVectorizer\n",
    "    dv = DictVectorizer(sparse=False)\n",
    "    dv.fit(train_dict)\n",
    "    #use 'transform' method to convert dictionaries to matrix\n",
    "    X = dv.transform(train_dict)\n",
    "    return X"
   ]
  },
  {
   "cell_type": "code",
   "execution_count": 21,
   "metadata": {},
   "outputs": [
    {
     "data": {
      "text/plain": [
       "LogisticRegression(C=1.0, class_weight=None, dual=False, fit_intercept=True,\n",
       "                   intercept_scaling=1, l1_ratio=None, max_iter=100,\n",
       "                   multi_class='warn', n_jobs=None, penalty='l2',\n",
       "                   random_state=1, solver='liblinear', tol=0.0001, verbose=0,\n",
       "                   warm_start=False)"
      ]
     },
     "execution_count": 21,
     "metadata": {},
     "output_type": "execute_result"
    }
   ],
   "source": [
    "#train logistic regression model\n",
    "from sklearn.linear_model import LogisticRegression\n",
    "#train model by calling 'fit' method\n",
    "model = LogisticRegression(solver='liblinear', random_state = 1)\n",
    "model.fit(prepare_X(df_train), y_train)"
   ]
  },
  {
   "cell_type": "code",
   "execution_count": 22,
   "metadata": {},
   "outputs": [],
   "source": [
    "def prepare_val(df_inp):\n",
    "    #convert training set to dictionary\n",
    "    train_dict = df_inp[categorical + numerical].to_dict(orient='rows')\n",
    "    from sklearn.feature_extraction import DictVectorizer\n",
    "    dv_new = DictVectorizer(sparse=False)\n",
    "    dv_new.fit(train_dict)\n",
    "    #use 'transform' method to convert dictionaries to matrix\n",
    "    X = dv_new.transform(train_dict)\n",
    "    return X"
   ]
  },
  {
   "cell_type": "code",
   "execution_count": 23,
   "metadata": {},
   "outputs": [
    {
     "ename": "ValueError",
     "evalue": "X has 188 features per sample; expecting 205",
     "output_type": "error",
     "traceback": [
      "\u001b[1;31m---------------------------------------------------------------------------\u001b[0m",
      "\u001b[1;31mValueError\u001b[0m                                Traceback (most recent call last)",
      "\u001b[1;32m<ipython-input-23-b5238843ee18>\u001b[0m in \u001b[0;36m<module>\u001b[1;34m\u001b[0m\n\u001b[0;32m      1\u001b[0m \u001b[1;31m#use model to predict target variable\u001b[0m\u001b[1;33m\u001b[0m\u001b[1;33m\u001b[0m\u001b[1;33m\u001b[0m\u001b[0m\n\u001b[1;32m----> 2\u001b[1;33m \u001b[0my_pred\u001b[0m \u001b[1;33m=\u001b[0m \u001b[0mmodel\u001b[0m\u001b[1;33m.\u001b[0m\u001b[0mpredict_proba\u001b[0m\u001b[1;33m(\u001b[0m\u001b[0mprepare_val\u001b[0m\u001b[1;33m(\u001b[0m\u001b[0mdf_val\u001b[0m\u001b[1;33m)\u001b[0m\u001b[1;33m)\u001b[0m\u001b[1;33m[\u001b[0m\u001b[1;33m:\u001b[0m\u001b[1;33m,\u001b[0m \u001b[1;36m1\u001b[0m\u001b[1;33m]\u001b[0m\u001b[1;33m\u001b[0m\u001b[1;33m\u001b[0m\u001b[0m\n\u001b[0m\u001b[0;32m      3\u001b[0m \u001b[0my_pred\u001b[0m \u001b[1;33m>=\u001b[0m \u001b[1;36m0.5\u001b[0m\u001b[1;33m\u001b[0m\u001b[1;33m\u001b[0m\u001b[0m\n\u001b[0;32m      4\u001b[0m \u001b[0mconverted\u001b[0m \u001b[1;33m=\u001b[0m \u001b[0my_pred\u001b[0m \u001b[1;33m>=\u001b[0m \u001b[1;36m0.5\u001b[0m\u001b[1;33m\u001b[0m\u001b[1;33m\u001b[0m\u001b[0m\n\u001b[0;32m      5\u001b[0m \u001b[0mprint\u001b[0m\u001b[1;33m(\u001b[0m\u001b[1;34m'Accuracy'\u001b[0m\u001b[1;33m,\u001b[0m \u001b[1;33m(\u001b[0m\u001b[0my_val\u001b[0m \u001b[1;33m==\u001b[0m \u001b[0mconverted\u001b[0m\u001b[1;33m)\u001b[0m\u001b[1;33m.\u001b[0m\u001b[0mmean\u001b[0m\u001b[1;33m(\u001b[0m\u001b[1;33m)\u001b[0m\u001b[1;33m)\u001b[0m\u001b[1;33m\u001b[0m\u001b[1;33m\u001b[0m\u001b[0m\n",
      "\u001b[1;32m~\\Anaconda3\\lib\\site-packages\\sklearn\\linear_model\\logistic.py\u001b[0m in \u001b[0;36mpredict_proba\u001b[1;34m(self, X)\u001b[0m\n\u001b[0;32m   1652\u001b[0m                                                 self.solver == 'liblinear')))\n\u001b[0;32m   1653\u001b[0m         \u001b[1;32mif\u001b[0m \u001b[0movr\u001b[0m\u001b[1;33m:\u001b[0m\u001b[1;33m\u001b[0m\u001b[1;33m\u001b[0m\u001b[0m\n\u001b[1;32m-> 1654\u001b[1;33m             \u001b[1;32mreturn\u001b[0m \u001b[0msuper\u001b[0m\u001b[1;33m(\u001b[0m\u001b[1;33m)\u001b[0m\u001b[1;33m.\u001b[0m\u001b[0m_predict_proba_lr\u001b[0m\u001b[1;33m(\u001b[0m\u001b[0mX\u001b[0m\u001b[1;33m)\u001b[0m\u001b[1;33m\u001b[0m\u001b[1;33m\u001b[0m\u001b[0m\n\u001b[0m\u001b[0;32m   1655\u001b[0m         \u001b[1;32melse\u001b[0m\u001b[1;33m:\u001b[0m\u001b[1;33m\u001b[0m\u001b[1;33m\u001b[0m\u001b[0m\n\u001b[0;32m   1656\u001b[0m             \u001b[0mdecision\u001b[0m \u001b[1;33m=\u001b[0m \u001b[0mself\u001b[0m\u001b[1;33m.\u001b[0m\u001b[0mdecision_function\u001b[0m\u001b[1;33m(\u001b[0m\u001b[0mX\u001b[0m\u001b[1;33m)\u001b[0m\u001b[1;33m\u001b[0m\u001b[1;33m\u001b[0m\u001b[0m\n",
      "\u001b[1;32m~\\Anaconda3\\lib\\site-packages\\sklearn\\linear_model\\base.py\u001b[0m in \u001b[0;36m_predict_proba_lr\u001b[1;34m(self, X)\u001b[0m\n\u001b[0;32m    301\u001b[0m         \u001b[0mmulticlass\u001b[0m \u001b[1;32mis\u001b[0m \u001b[0mhandled\u001b[0m \u001b[0mby\u001b[0m \u001b[0mnormalizing\u001b[0m \u001b[0mthat\u001b[0m \u001b[0mover\u001b[0m \u001b[0mall\u001b[0m \u001b[0mclasses\u001b[0m\u001b[1;33m.\u001b[0m\u001b[1;33m\u001b[0m\u001b[1;33m\u001b[0m\u001b[0m\n\u001b[0;32m    302\u001b[0m         \"\"\"\n\u001b[1;32m--> 303\u001b[1;33m         \u001b[0mprob\u001b[0m \u001b[1;33m=\u001b[0m \u001b[0mself\u001b[0m\u001b[1;33m.\u001b[0m\u001b[0mdecision_function\u001b[0m\u001b[1;33m(\u001b[0m\u001b[0mX\u001b[0m\u001b[1;33m)\u001b[0m\u001b[1;33m\u001b[0m\u001b[1;33m\u001b[0m\u001b[0m\n\u001b[0m\u001b[0;32m    304\u001b[0m         \u001b[0mexpit\u001b[0m\u001b[1;33m(\u001b[0m\u001b[0mprob\u001b[0m\u001b[1;33m,\u001b[0m \u001b[0mout\u001b[0m\u001b[1;33m=\u001b[0m\u001b[0mprob\u001b[0m\u001b[1;33m)\u001b[0m\u001b[1;33m\u001b[0m\u001b[1;33m\u001b[0m\u001b[0m\n\u001b[0;32m    305\u001b[0m         \u001b[1;32mif\u001b[0m \u001b[0mprob\u001b[0m\u001b[1;33m.\u001b[0m\u001b[0mndim\u001b[0m \u001b[1;33m==\u001b[0m \u001b[1;36m1\u001b[0m\u001b[1;33m:\u001b[0m\u001b[1;33m\u001b[0m\u001b[1;33m\u001b[0m\u001b[0m\n",
      "\u001b[1;32m~\\Anaconda3\\lib\\site-packages\\sklearn\\linear_model\\base.py\u001b[0m in \u001b[0;36mdecision_function\u001b[1;34m(self, X)\u001b[0m\n\u001b[0;32m    268\u001b[0m         \u001b[1;32mif\u001b[0m \u001b[0mX\u001b[0m\u001b[1;33m.\u001b[0m\u001b[0mshape\u001b[0m\u001b[1;33m[\u001b[0m\u001b[1;36m1\u001b[0m\u001b[1;33m]\u001b[0m \u001b[1;33m!=\u001b[0m \u001b[0mn_features\u001b[0m\u001b[1;33m:\u001b[0m\u001b[1;33m\u001b[0m\u001b[1;33m\u001b[0m\u001b[0m\n\u001b[0;32m    269\u001b[0m             raise ValueError(\"X has %d features per sample; expecting %d\"\n\u001b[1;32m--> 270\u001b[1;33m                              % (X.shape[1], n_features))\n\u001b[0m\u001b[0;32m    271\u001b[0m \u001b[1;33m\u001b[0m\u001b[0m\n\u001b[0;32m    272\u001b[0m         scores = safe_sparse_dot(X, self.coef_.T,\n",
      "\u001b[1;31mValueError\u001b[0m: X has 188 features per sample; expecting 205"
     ]
    }
   ],
   "source": [
    "#use model to predict target variable\n",
    "y_pred = model.predict_proba(prepare_val(df_val))[:, 1]\n",
    "y_pred >= 0.5\n",
    "converted = y_pred >= 0.5\n",
    "print('Accuracy', (y_val == converted).mean())"
   ]
  },
  {
   "cell_type": "markdown",
   "metadata": {},
   "source": [
    "The above cell throws an error. Reason: the number of features in the training set and the validation set is different, after the one-hot encoding was conducted. The outputs of the cells below also give that result (205 != 188)"
   ]
  },
  {
   "cell_type": "code",
   "execution_count": 24,
   "metadata": {},
   "outputs": [
    {
     "data": {
      "text/plain": [
       "(4952, 205)"
      ]
     },
     "execution_count": 24,
     "metadata": {},
     "output_type": "execute_result"
    }
   ],
   "source": [
    "train_dict = df_train[categorical + numerical].to_dict(orient='rows')\n",
    "from sklearn.feature_extraction import DictVectorizer\n",
    "dv = DictVectorizer(sparse=False)\n",
    "dv.fit(train_dict)\n",
    "#use 'transform' method to convert dictionaries to matrix\n",
    "X = dv.transform(train_dict)\n",
    "X.shape"
   ]
  },
  {
   "cell_type": "code",
   "execution_count": 25,
   "metadata": {},
   "outputs": [],
   "source": [
    "#get a list with all the feature names (column names) from training set after the one-hot-encoding\n",
    "list_train = dv.get_feature_names()"
   ]
  },
  {
   "cell_type": "code",
   "execution_count": 26,
   "metadata": {},
   "outputs": [
    {
     "data": {
      "text/plain": [
       "(2440, 188)"
      ]
     },
     "execution_count": 26,
     "metadata": {},
     "output_type": "execute_result"
    }
   ],
   "source": [
    "train_dict = df_val[categorical + numerical].to_dict(orient='rows')\n",
    "from sklearn.feature_extraction import DictVectorizer\n",
    "dv_new = DictVectorizer(sparse=False)\n",
    "dv_new.fit(train_dict)\n",
    "#use 'transform' method to convert dictionaries to matrix\n",
    "X = dv_new.transform(train_dict)\n",
    "X.shape"
   ]
  },
  {
   "cell_type": "code",
   "execution_count": 27,
   "metadata": {},
   "outputs": [],
   "source": [
    "#get a list with all the feature names (column names) from validation set after the one-hot-encoding\n",
    "list_val = dv_new.get_feature_names()"
   ]
  },
  {
   "cell_type": "code",
   "execution_count": 28,
   "metadata": {},
   "outputs": [],
   "source": [
    "#get those items, that only exist in one of the lists\n",
    "diff_list = list(set(list_train) - set(list_val))"
   ]
  },
  {
   "cell_type": "code",
   "execution_count": 29,
   "metadata": {},
   "outputs": [],
   "source": [
    "#calculate the difference of the length between the 2 lists\n",
    "len_diff_list = len(list_train) - len(list_val)"
   ]
  },
  {
   "cell_type": "code",
   "execution_count": 30,
   "metadata": {},
   "outputs": [
    {
     "data": {
      "text/plain": [
       "17"
      ]
     },
     "execution_count": 30,
     "metadata": {},
     "output_type": "execute_result"
    }
   ],
   "source": [
    "len_diff_list"
   ]
  },
  {
   "cell_type": "code",
   "execution_count": 31,
   "metadata": {},
   "outputs": [],
   "source": [
    "#below is a example that helps to understand how to add columns to a df, where the values are 0\n",
    "data = {'Name': ['Jai', 'Princi', 'Gaurav', 'Anuj'], \n",
    "        'Height': [5.1, 6.2, 5.1, 5.2], \n",
    "        'Qualification': ['Msc', 'MA', 'Msc', 'Msc']} \n",
    "df = pd.DataFrame(data)"
   ]
  },
  {
   "cell_type": "code",
   "execution_count": 32,
   "metadata": {},
   "outputs": [
    {
     "data": {
      "text/html": [
       "<div>\n",
       "<style scoped>\n",
       "    .dataframe tbody tr th:only-of-type {\n",
       "        vertical-align: middle;\n",
       "    }\n",
       "\n",
       "    .dataframe tbody tr th {\n",
       "        vertical-align: top;\n",
       "    }\n",
       "\n",
       "    .dataframe thead th {\n",
       "        text-align: right;\n",
       "    }\n",
       "</style>\n",
       "<table border=\"1\" class=\"dataframe\">\n",
       "  <thead>\n",
       "    <tr style=\"text-align: right;\">\n",
       "      <th></th>\n",
       "      <th>Name</th>\n",
       "      <th>Height</th>\n",
       "      <th>Qualification</th>\n",
       "    </tr>\n",
       "  </thead>\n",
       "  <tbody>\n",
       "    <tr>\n",
       "      <td>0</td>\n",
       "      <td>Jai</td>\n",
       "      <td>5.1</td>\n",
       "      <td>Msc</td>\n",
       "    </tr>\n",
       "    <tr>\n",
       "      <td>1</td>\n",
       "      <td>Princi</td>\n",
       "      <td>6.2</td>\n",
       "      <td>MA</td>\n",
       "    </tr>\n",
       "    <tr>\n",
       "      <td>2</td>\n",
       "      <td>Gaurav</td>\n",
       "      <td>5.1</td>\n",
       "      <td>Msc</td>\n",
       "    </tr>\n",
       "    <tr>\n",
       "      <td>3</td>\n",
       "      <td>Anuj</td>\n",
       "      <td>5.2</td>\n",
       "      <td>Msc</td>\n",
       "    </tr>\n",
       "  </tbody>\n",
       "</table>\n",
       "</div>"
      ],
      "text/plain": [
       "     Name  Height Qualification\n",
       "0     Jai     5.1           Msc\n",
       "1  Princi     6.2            MA\n",
       "2  Gaurav     5.1           Msc\n",
       "3    Anuj     5.2           Msc"
      ]
     },
     "execution_count": 32,
     "metadata": {},
     "output_type": "execute_result"
    }
   ],
   "source": [
    "df"
   ]
  },
  {
   "cell_type": "code",
   "execution_count": 33,
   "metadata": {},
   "outputs": [],
   "source": [
    "for n in diff_list:\n",
    "    df[n] = 0"
   ]
  },
  {
   "cell_type": "code",
   "execution_count": 34,
   "metadata": {},
   "outputs": [
    {
     "data": {
      "text/html": [
       "<div>\n",
       "<style scoped>\n",
       "    .dataframe tbody tr th:only-of-type {\n",
       "        vertical-align: middle;\n",
       "    }\n",
       "\n",
       "    .dataframe tbody tr th {\n",
       "        vertical-align: top;\n",
       "    }\n",
       "\n",
       "    .dataframe thead th {\n",
       "        text-align: right;\n",
       "    }\n",
       "</style>\n",
       "<table border=\"1\" class=\"dataframe\">\n",
       "  <thead>\n",
       "    <tr style=\"text-align: right;\">\n",
       "      <th></th>\n",
       "      <th>Name</th>\n",
       "      <th>Height</th>\n",
       "      <th>Qualification</th>\n",
       "      <th>lead_source=nc_edm</th>\n",
       "      <th>country=denmark</th>\n",
       "      <th>lead_source=welearn</th>\n",
       "      <th>country=italy</th>\n",
       "      <th>country=russia</th>\n",
       "      <th>country=china</th>\n",
       "      <th>country=nigeria</th>\n",
       "      <th>...</th>\n",
       "      <th>what_matters_most_to_you_in_choosing_a_course=flexibility_&amp;_convenience</th>\n",
       "      <th>last_notable_activity=email_marked_spam</th>\n",
       "      <th>last_notable_activity=email_received</th>\n",
       "      <th>lead_source=press_release</th>\n",
       "      <th>country=liberia</th>\n",
       "      <th>country=philippines</th>\n",
       "      <th>country=sri_lanka</th>\n",
       "      <th>country=kenya</th>\n",
       "      <th>country=vietnam</th>\n",
       "      <th>country=uganda</th>\n",
       "    </tr>\n",
       "  </thead>\n",
       "  <tbody>\n",
       "    <tr>\n",
       "      <td>0</td>\n",
       "      <td>Jai</td>\n",
       "      <td>5.1</td>\n",
       "      <td>Msc</td>\n",
       "      <td>0</td>\n",
       "      <td>0</td>\n",
       "      <td>0</td>\n",
       "      <td>0</td>\n",
       "      <td>0</td>\n",
       "      <td>0</td>\n",
       "      <td>0</td>\n",
       "      <td>...</td>\n",
       "      <td>0</td>\n",
       "      <td>0</td>\n",
       "      <td>0</td>\n",
       "      <td>0</td>\n",
       "      <td>0</td>\n",
       "      <td>0</td>\n",
       "      <td>0</td>\n",
       "      <td>0</td>\n",
       "      <td>0</td>\n",
       "      <td>0</td>\n",
       "    </tr>\n",
       "    <tr>\n",
       "      <td>1</td>\n",
       "      <td>Princi</td>\n",
       "      <td>6.2</td>\n",
       "      <td>MA</td>\n",
       "      <td>0</td>\n",
       "      <td>0</td>\n",
       "      <td>0</td>\n",
       "      <td>0</td>\n",
       "      <td>0</td>\n",
       "      <td>0</td>\n",
       "      <td>0</td>\n",
       "      <td>...</td>\n",
       "      <td>0</td>\n",
       "      <td>0</td>\n",
       "      <td>0</td>\n",
       "      <td>0</td>\n",
       "      <td>0</td>\n",
       "      <td>0</td>\n",
       "      <td>0</td>\n",
       "      <td>0</td>\n",
       "      <td>0</td>\n",
       "      <td>0</td>\n",
       "    </tr>\n",
       "    <tr>\n",
       "      <td>2</td>\n",
       "      <td>Gaurav</td>\n",
       "      <td>5.1</td>\n",
       "      <td>Msc</td>\n",
       "      <td>0</td>\n",
       "      <td>0</td>\n",
       "      <td>0</td>\n",
       "      <td>0</td>\n",
       "      <td>0</td>\n",
       "      <td>0</td>\n",
       "      <td>0</td>\n",
       "      <td>...</td>\n",
       "      <td>0</td>\n",
       "      <td>0</td>\n",
       "      <td>0</td>\n",
       "      <td>0</td>\n",
       "      <td>0</td>\n",
       "      <td>0</td>\n",
       "      <td>0</td>\n",
       "      <td>0</td>\n",
       "      <td>0</td>\n",
       "      <td>0</td>\n",
       "    </tr>\n",
       "    <tr>\n",
       "      <td>3</td>\n",
       "      <td>Anuj</td>\n",
       "      <td>5.2</td>\n",
       "      <td>Msc</td>\n",
       "      <td>0</td>\n",
       "      <td>0</td>\n",
       "      <td>0</td>\n",
       "      <td>0</td>\n",
       "      <td>0</td>\n",
       "      <td>0</td>\n",
       "      <td>0</td>\n",
       "      <td>...</td>\n",
       "      <td>0</td>\n",
       "      <td>0</td>\n",
       "      <td>0</td>\n",
       "      <td>0</td>\n",
       "      <td>0</td>\n",
       "      <td>0</td>\n",
       "      <td>0</td>\n",
       "      <td>0</td>\n",
       "      <td>0</td>\n",
       "      <td>0</td>\n",
       "    </tr>\n",
       "  </tbody>\n",
       "</table>\n",
       "<p>4 rows × 32 columns</p>\n",
       "</div>"
      ],
      "text/plain": [
       "     Name  Height Qualification  lead_source=nc_edm  country=denmark  \\\n",
       "0     Jai     5.1           Msc                   0                0   \n",
       "1  Princi     6.2            MA                   0                0   \n",
       "2  Gaurav     5.1           Msc                   0                0   \n",
       "3    Anuj     5.2           Msc                   0                0   \n",
       "\n",
       "   lead_source=welearn  country=italy  country=russia  country=china  \\\n",
       "0                    0              0               0              0   \n",
       "1                    0              0               0              0   \n",
       "2                    0              0               0              0   \n",
       "3                    0              0               0              0   \n",
       "\n",
       "   country=nigeria  ...  \\\n",
       "0                0  ...   \n",
       "1                0  ...   \n",
       "2                0  ...   \n",
       "3                0  ...   \n",
       "\n",
       "   what_matters_most_to_you_in_choosing_a_course=flexibility_&_convenience  \\\n",
       "0                                                  0                         \n",
       "1                                                  0                         \n",
       "2                                                  0                         \n",
       "3                                                  0                         \n",
       "\n",
       "   last_notable_activity=email_marked_spam  \\\n",
       "0                                        0   \n",
       "1                                        0   \n",
       "2                                        0   \n",
       "3                                        0   \n",
       "\n",
       "   last_notable_activity=email_received  lead_source=press_release  \\\n",
       "0                                     0                          0   \n",
       "1                                     0                          0   \n",
       "2                                     0                          0   \n",
       "3                                     0                          0   \n",
       "\n",
       "   country=liberia  country=philippines  country=sri_lanka  country=kenya  \\\n",
       "0                0                    0                  0              0   \n",
       "1                0                    0                  0              0   \n",
       "2                0                    0                  0              0   \n",
       "3                0                    0                  0              0   \n",
       "\n",
       "   country=vietnam  country=uganda  \n",
       "0                0               0  \n",
       "1                0               0  \n",
       "2                0               0  \n",
       "3                0               0  \n",
       "\n",
       "[4 rows x 32 columns]"
      ]
     },
     "execution_count": 34,
     "metadata": {},
     "output_type": "execute_result"
    }
   ],
   "source": [
    "df"
   ]
  },
  {
   "cell_type": "code",
   "execution_count": 35,
   "metadata": {},
   "outputs": [],
   "source": [
    "def prepare_X(df_inp):\n",
    "    train_dummies = pd.get_dummies(df_inp[categorical + numerical])\n",
    "    #use 'values' method to convert df to matrix\n",
    "    X = train_dummies.values\n",
    "    return X"
   ]
  },
  {
   "cell_type": "code",
   "execution_count": 36,
   "metadata": {},
   "outputs": [
    {
     "data": {
      "text/plain": [
       "LogisticRegression(C=1.0, class_weight=None, dual=False, fit_intercept=True,\n",
       "                   intercept_scaling=1, l1_ratio=None, max_iter=100,\n",
       "                   multi_class='warn', n_jobs=None, penalty='l2',\n",
       "                   random_state=1, solver='liblinear', tol=0.0001, verbose=0,\n",
       "                   warm_start=False)"
      ]
     },
     "execution_count": 36,
     "metadata": {},
     "output_type": "execute_result"
    }
   ],
   "source": [
    "#train logistic regression model\n",
    "from sklearn.linear_model import LogisticRegression\n",
    "#train model by calling 'fit' method\n",
    "model = LogisticRegression(solver='liblinear', random_state = 1)\n",
    "model.fit(prepare_X(df_train), y_train)"
   ]
  },
  {
   "cell_type": "code",
   "execution_count": 37,
   "metadata": {},
   "outputs": [],
   "source": [
    "def prepare_val(df_inp):\n",
    "    train_dummies = pd.get_dummies(df_inp[categorical + numerical])\n",
    "    #add missing features by adding columns, where the values are 0\n",
    "    for n in range(len_diff_list):\n",
    "        train_dummies[n] = 0\n",
    "    #use 'values' method to convert df to matrix\n",
    "    X = train_dummies.values\n",
    "    return X"
   ]
  },
  {
   "cell_type": "code",
   "execution_count": 38,
   "metadata": {},
   "outputs": [
    {
     "name": "stdout",
     "output_type": "stream",
     "text": [
      "Accuracy 0.7245901639344262\n"
     ]
    }
   ],
   "source": [
    "#use model to predict target variable\n",
    "y_pred = model.predict_proba(prepare_val(df_val))[:, 1]\n",
    "y_pred >= 0.5\n",
    "converted = y_pred >= 0.5\n",
    "print('Accuracy', (y_val == converted).mean())"
   ]
  },
  {
   "cell_type": "markdown",
   "metadata": {},
   "source": [
    "<b>Useful links that help to understand how to deal with datasets of different sizes</b>\n",
    "* https://stackoverflow.com/questions/44266677/machine-learning-test-set-with-fewer-features-than-the-train-set\n",
    "* https://stackoverflow.com/questions/45422000/add-n-zeros-to-the-end-of-an-array\n"
   ]
  },
  {
   "cell_type": "code",
   "execution_count": 40,
   "metadata": {},
   "outputs": [
    {
     "data": {
      "text/plain": [
       "Text(0.5, 1.0, 'ROC Curve')"
      ]
     },
     "execution_count": 40,
     "metadata": {},
     "output_type": "execute_result"
    },
    {
     "data": {
      "image/png": "[encoded data removed]",
      "text/plain": [
       "<Figure size 360x360 with 1 Axes>"
      ]
     },
     "metadata": {
      "needs_background": "light"
     },
     "output_type": "display_data"
    }
   ],
   "source": [
    "from sklearn.metrics import roc_curve\n",
    "\n",
    "fpr, tpr, thresholds = roc_curve(y_val, y_pred)\n",
    "\n",
    "plt.figure(figsize=(5, 5))\n",
    "plt.plot(fpr, tpr)\n",
    "plt.plot([0,1],[0,1])\n",
    "plt.xlabel('False Positive Rate', color='white')\n",
    "plt.ylabel('True Positive Rate', color='white')\n",
    "plt.title('ROC Curve', color='white')"
   ]
  },
  {
   "cell_type": "code",
   "execution_count": null,
   "metadata": {},
   "outputs": [],
   "source": []
  }
 ],
 "metadata": {
  "kernelspec": {
   "display_name": "Python 3",
   "language": "python",
   "name": "python3"
  },
  "language_info": {
   "codemirror_mode": {
    "name": "ipython",
    "version": 3
   },
   "file_extension": ".py",
   "mimetype": "text/x-python",
   "name": "python",
   "nbconvert_exporter": "python",
   "pygments_lexer": "ipython3",
   "version": "3.7.4"
  }
 },
 "nbformat": 4,
 "nbformat_minor": 2
}
