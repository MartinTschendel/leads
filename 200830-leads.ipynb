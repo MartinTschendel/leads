{
 "cells": [
  {
   "cell_type": "code",
   "execution_count": 66,
   "metadata": {},
   "outputs": [],
   "source": [
    "import pandas as pd\n",
    "import numpy as np\n",
    "\n",
    "import seaborn as sns\n",
    "from matplotlib import pyplot as plt\n",
    "%matplotlib inline"
   ]
  },
  {
   "cell_type": "code",
   "execution_count": 67,
   "metadata": {},
   "outputs": [],
   "source": [
    "df = pd.read_csv('data/dataset.csv')"
   ]
  },
  {
   "cell_type": "code",
   "execution_count": 68,
   "metadata": {},
   "outputs": [],
   "source": [
    "#column names & string values: lowercasing everything and replace spaces with underscore\n",
    "df.columns = df.columns.str.lower().str.replace(' ', '_')\n",
    "string_columns = list(df.dtypes[df.dtypes == 'object'].index)\n",
    "\n",
    "for col in string_columns:\n",
    "    df[col] = df[col].str.lower().str.replace(' ', '_')"
   ]
  },
  {
   "cell_type": "code",
   "execution_count": 69,
   "metadata": {},
   "outputs": [
    {
     "name": "stdout",
     "output_type": "stream",
     "text": [
      "<class 'pandas.core.frame.DataFrame'>\n",
      "RangeIndex: 9240 entries, 0 to 9239\n",
      "Data columns (total 37 columns):\n",
      "prospect_id                                      9240 non-null object\n",
      "lead_number                                      9240 non-null int64\n",
      "lead_origin                                      9240 non-null object\n",
      "lead_source                                      9204 non-null object\n",
      "do_not_email                                     9240 non-null object\n",
      "do_not_call                                      9240 non-null object\n",
      "converted                                        9240 non-null int64\n",
      "totalvisits                                      9103 non-null float64\n",
      "total_time_spent_on_website                      9240 non-null int64\n",
      "page_views_per_visit                             9103 non-null float64\n",
      "last_activity                                    9137 non-null object\n",
      "country                                          6779 non-null object\n",
      "specialization                                   7802 non-null object\n",
      "how_did_you_hear_about_x_education               7033 non-null object\n",
      "what_is_your_current_occupation                  6550 non-null object\n",
      "what_matters_most_to_you_in_choosing_a_course    6531 non-null object\n",
      "search                                           9240 non-null object\n",
      "magazine                                         9240 non-null object\n",
      "newspaper_article                                9240 non-null object\n",
      "x_education_forums                               9240 non-null object\n",
      "newspaper                                        9240 non-null object\n",
      "digital_advertisement                            9240 non-null object\n",
      "through_recommendations                          9240 non-null object\n",
      "receive_more_updates_about_our_courses           9240 non-null object\n",
      "tags                                             5887 non-null object\n",
      "lead_quality                                     4473 non-null object\n",
      "update_me_on_supply_chain_content                9240 non-null object\n",
      "get_updates_on_dm_content                        9240 non-null object\n",
      "lead_profile                                     6531 non-null object\n",
      "city                                             7820 non-null object\n",
      "asymmetrique_activity_index                      5022 non-null object\n",
      "asymmetrique_profile_index                       5022 non-null object\n",
      "asymmetrique_activity_score                      5022 non-null float64\n",
      "asymmetrique_profile_score                       5022 non-null float64\n",
      "i_agree_to_pay_the_amount_through_cheque         9240 non-null object\n",
      "a_free_copy_of_mastering_the_interview           9240 non-null object\n",
      "last_notable_activity                            9240 non-null object\n",
      "dtypes: float64(4), int64(3), object(30)\n",
      "memory usage: 2.6+ MB\n"
     ]
    }
   ],
   "source": [
    "df.info()"
   ]
  },
  {
   "cell_type": "code",
   "execution_count": 70,
   "metadata": {},
   "outputs": [
    {
     "data": {
      "text/plain": [
       "prospect_id                                         0\n",
       "lead_number                                         0\n",
       "lead_origin                                         0\n",
       "lead_source                                        36\n",
       "do_not_email                                        0\n",
       "do_not_call                                         0\n",
       "converted                                           0\n",
       "totalvisits                                       137\n",
       "total_time_spent_on_website                         0\n",
       "page_views_per_visit                              137\n",
       "last_activity                                     103\n",
       "country                                          2461\n",
       "specialization                                   1438\n",
       "how_did_you_hear_about_x_education               2207\n",
       "what_is_your_current_occupation                  2690\n",
       "what_matters_most_to_you_in_choosing_a_course    2709\n",
       "search                                              0\n",
       "magazine                                            0\n",
       "newspaper_article                                   0\n",
       "x_education_forums                                  0\n",
       "newspaper                                           0\n",
       "digital_advertisement                               0\n",
       "through_recommendations                             0\n",
       "receive_more_updates_about_our_courses              0\n",
       "tags                                             3353\n",
       "lead_quality                                     4767\n",
       "update_me_on_supply_chain_content                   0\n",
       "get_updates_on_dm_content                           0\n",
       "lead_profile                                     2709\n",
       "city                                             1420\n",
       "asymmetrique_activity_index                      4218\n",
       "asymmetrique_profile_index                       4218\n",
       "asymmetrique_activity_score                      4218\n",
       "asymmetrique_profile_score                       4218\n",
       "i_agree_to_pay_the_amount_through_cheque            0\n",
       "a_free_copy_of_mastering_the_interview              0\n",
       "last_notable_activity                               0\n",
       "dtype: int64"
      ]
     },
     "execution_count": 70,
     "metadata": {},
     "output_type": "execute_result"
    }
   ],
   "source": [
    "df.isnull().sum()"
   ]
  },
  {
   "cell_type": "markdown",
   "metadata": {},
   "source": [
    "Many columns have missing values. Below I use different imputation methods to replace<br>\n",
    "the missing values"
   ]
  },
  {
   "cell_type": "code",
   "execution_count": 71,
   "metadata": {},
   "outputs": [],
   "source": [
    "#totalvisits has 137 missing values\n",
    "#use fillna() method to replace missing values with mean value\n",
    "df['totalvisits'].fillna(df['totalvisits'].mean(), inplace = True)\n",
    "df['page_views_per_visit'].fillna(df['page_views_per_visit'].mean(), inplace = True)\n",
    "df['asymmetrique_activity_score'].fillna(df['asymmetrique_activity_score'].mean(), inplace = True)\n",
    "df['asymmetrique_profile_score'].fillna(df['asymmetrique_profile_score'].mean(), inplace = True)\n"
   ]
  },
  {
   "cell_type": "code",
   "execution_count": 72,
   "metadata": {},
   "outputs": [],
   "source": [
    "#get one list with categorical and one list with numerical features\n",
    "categorical = ['prospect_id',\n",
    " 'lead_origin',\n",
    " 'lead_source',\n",
    " 'do_not_email',\n",
    " 'do_not_call',\n",
    " 'last_activity',\n",
    " 'country',\n",
    " 'specialization',\n",
    " 'how_did_you_hear_about_x_education',\n",
    " 'what_is_your_current_occupation',\n",
    " 'what_matters_most_to_you_in_choosing_a_course',\n",
    " 'search',\n",
    " 'magazine',\n",
    " 'newspaper_article',\n",
    " 'x_education_forums',\n",
    " 'newspaper',\n",
    " 'digital_advertisement',\n",
    " 'through_recommendations',\n",
    " 'receive_more_updates_about_our_courses',\n",
    " 'tags',\n",
    " 'lead_quality',\n",
    " 'update_me_on_supply_chain_content',\n",
    " 'get_updates_on_dm_content',\n",
    " 'lead_profile',\n",
    " 'city',\n",
    " 'asymmetrique_activity_index',\n",
    " 'asymmetrique_profile_index',\n",
    " 'i_agree_to_pay_the_amount_through_cheque',\n",
    " 'a_free_copy_of_mastering_the_interview',\n",
    " 'last_notable_activity']\n",
    "numerical = ['lead_number',\n",
    " 'totalvisits',\n",
    " 'total_time_spent_on_website',\n",
    " 'page_views_per_visit',\n",
    " 'asymmetrique_activity_score',\n",
    " 'asymmetrique_profile_score']"
   ]
  },
  {
   "cell_type": "code",
   "execution_count": 73,
   "metadata": {},
   "outputs": [
    {
     "name": "stdout",
     "output_type": "stream",
     "text": [
      "0\n",
      "0\n",
      "0\n",
      "0\n",
      "0\n",
      "0\n"
     ]
    }
   ],
   "source": [
    "#check if any of the numerical variables still have NaN values\n",
    "n = 0\n",
    "for n in numerical:\n",
    "    print(df[n].isnull().sum())\n",
    "    n =+ 1"
   ]
  },
  {
   "cell_type": "code",
   "execution_count": 74,
   "metadata": {},
   "outputs": [],
   "source": [
    "#for 'lead_source', use impuation method 'most common class'\n",
    "df['lead_source'].fillna(df['lead_source'].value_counts().index[0], inplace=True)"
   ]
  },
  {
   "cell_type": "code",
   "execution_count": 75,
   "metadata": {},
   "outputs": [],
   "source": [
    "#for 'last_activity', use impution method 'most common class'\n",
    "df['last_activity'].fillna(df['last_activity'].value_counts().index[0], inplace=True)"
   ]
  },
  {
   "cell_type": "code",
   "execution_count": 76,
   "metadata": {},
   "outputs": [],
   "source": [
    "#for 'country', we use imputation menthod 'unknown' class\n",
    "df['country'].fillna(\"unknown\", inplace=True)\n",
    "df['specialization'].fillna(\"unknown\", inplace=True)\n",
    "df['how_did_you_hear_about_x_education'].fillna(\"unknown\", inplace=True)\n",
    "df['what_is_your_current_occupation'].fillna(\"unknown\", inplace=True)\n",
    "df['what_matters_most_to_you_in_choosing_a_course'].fillna(\"unknown\", inplace=True)\n",
    "df['lead_quality'].fillna(\"unknown\", inplace=True)\n",
    "df['tags'].fillna(\"unknown\", inplace=True)\n",
    "df['lead_profile'].fillna(\"unknown\", inplace=True)\n",
    "df['city'].fillna(\"unknown\", inplace=True)\n",
    "df['asymmetrique_activity_index'].fillna(\"unknown\", inplace=True)\n",
    "df['asymmetrique_profile_index'].fillna(\"unknown\", inplace=True)"
   ]
  },
  {
   "cell_type": "code",
   "execution_count": 77,
   "metadata": {},
   "outputs": [
    {
     "data": {
      "text/plain": [
       "prospect_id                                      0\n",
       "lead_number                                      0\n",
       "lead_origin                                      0\n",
       "lead_source                                      0\n",
       "do_not_email                                     0\n",
       "do_not_call                                      0\n",
       "converted                                        0\n",
       "totalvisits                                      0\n",
       "total_time_spent_on_website                      0\n",
       "page_views_per_visit                             0\n",
       "last_activity                                    0\n",
       "country                                          0\n",
       "specialization                                   0\n",
       "how_did_you_hear_about_x_education               0\n",
       "what_is_your_current_occupation                  0\n",
       "what_matters_most_to_you_in_choosing_a_course    0\n",
       "search                                           0\n",
       "magazine                                         0\n",
       "newspaper_article                                0\n",
       "x_education_forums                               0\n",
       "newspaper                                        0\n",
       "digital_advertisement                            0\n",
       "through_recommendations                          0\n",
       "receive_more_updates_about_our_courses           0\n",
       "tags                                             0\n",
       "lead_quality                                     0\n",
       "update_me_on_supply_chain_content                0\n",
       "get_updates_on_dm_content                        0\n",
       "lead_profile                                     0\n",
       "city                                             0\n",
       "asymmetrique_activity_index                      0\n",
       "asymmetrique_profile_index                       0\n",
       "asymmetrique_activity_score                      0\n",
       "asymmetrique_profile_score                       0\n",
       "i_agree_to_pay_the_amount_through_cheque         0\n",
       "a_free_copy_of_mastering_the_interview           0\n",
       "last_notable_activity                            0\n",
       "dtype: int64"
      ]
     },
     "execution_count": 77,
     "metadata": {},
     "output_type": "execute_result"
    }
   ],
   "source": [
    "df.isnull().sum()"
   ]
  },
  {
   "cell_type": "code",
   "execution_count": 78,
   "metadata": {},
   "outputs": [],
   "source": [
    "#splitting the dataset in different subsets\n",
    "from sklearn.model_selection import train_test_split"
   ]
  },
  {
   "cell_type": "code",
   "execution_count": 79,
   "metadata": {},
   "outputs": [],
   "source": [
    "#shuffling the data of df and splitting it into 2 sets\n",
    "#df_train_full (80%), df_test(20%)\n",
    "#random_state guarantees that the data is always shuffled in the same way\n",
    "df_train_full, df_test = train_test_split(df, test_size=0.2, random_state=1)"
   ]
  },
  {
   "cell_type": "code",
   "execution_count": 80,
   "metadata": {},
   "outputs": [],
   "source": [
    "#take df_train_full and split it into train and val\n",
    "df_train, df_val = train_test_split(df_train_full, test_size=0.33, random_state=11)\n",
    "#save target value in matrix array\n",
    "y_train = df_train.converted.values\n",
    "y_val = df_val.converted.values\n",
    "#delete target variable from training and validation set\n",
    "del df_train['converted']\n",
    "del df_val['converted']"
   ]
  },
  {
   "cell_type": "code",
   "execution_count": 81,
   "metadata": {},
   "outputs": [
    {
     "data": {
      "text/plain": [
       "0    4560\n",
       "1    2832\n",
       "Name: converted, dtype: int64"
      ]
     },
     "execution_count": 81,
     "metadata": {},
     "output_type": "execute_result"
    }
   ],
   "source": [
    "#check distribution of target variable\n",
    "#two thirds did not convert\n",
    "df_train_full.converted.value_counts()"
   ]
  },
  {
   "cell_type": "code",
   "execution_count": 82,
   "metadata": {},
   "outputs": [
    {
     "data": {
      "text/plain": [
       "0.38312"
      ]
     },
     "execution_count": 82,
     "metadata": {},
     "output_type": "execute_result"
    }
   ],
   "source": [
    "#get conversion rate\n",
    "#it seems to be an inbalanced dataset\n",
    "global_mean = df_train_full.converted.mean()\n",
    "round(global_mean, 5)"
   ]
  },
  {
   "cell_type": "markdown",
   "metadata": {},
   "source": [
    "<b>Mutual Information (MI)</b>\n",
    "* tells us how much info we learn about one variable if we know the value of other variables\n",
    "* we use it to measure mutual dependency between 2 variables\n",
    "* higher mutual info means higher dependency\n",
    "* MI only works for categorical but not for numerical variables"
   ]
  },
  {
   "cell_type": "code",
   "execution_count": 84,
   "metadata": {},
   "outputs": [
    {
     "data": {
      "text/html": [
       "<div>\n",
       "<style scoped>\n",
       "    .dataframe tbody tr th:only-of-type {\n",
       "        vertical-align: middle;\n",
       "    }\n",
       "\n",
       "    .dataframe tbody tr th {\n",
       "        vertical-align: top;\n",
       "    }\n",
       "\n",
       "    .dataframe thead th {\n",
       "        text-align: right;\n",
       "    }\n",
       "</style>\n",
       "<table border=\"1\" class=\"dataframe\">\n",
       "  <thead>\n",
       "    <tr style=\"text-align: right;\">\n",
       "      <th></th>\n",
       "      <th>MI</th>\n",
       "    </tr>\n",
       "  </thead>\n",
       "  <tbody>\n",
       "    <tr>\n",
       "      <td>prospect_id</td>\n",
       "      <td>6.655694e-01</td>\n",
       "    </tr>\n",
       "    <tr>\n",
       "      <td>tags</td>\n",
       "      <td>3.769913e-01</td>\n",
       "    </tr>\n",
       "    <tr>\n",
       "      <td>lead_quality</td>\n",
       "      <td>1.861223e-01</td>\n",
       "    </tr>\n",
       "    <tr>\n",
       "      <td>lead_profile</td>\n",
       "      <td>1.138871e-01</td>\n",
       "    </tr>\n",
       "    <tr>\n",
       "      <td>what_is_your_current_occupation</td>\n",
       "      <td>9.238140e-02</td>\n",
       "    </tr>\n",
       "    <tr>\n",
       "      <td>last_activity</td>\n",
       "      <td>8.462909e-02</td>\n",
       "    </tr>\n",
       "    <tr>\n",
       "      <td>last_notable_activity</td>\n",
       "      <td>7.251663e-02</td>\n",
       "    </tr>\n",
       "    <tr>\n",
       "      <td>lead_source</td>\n",
       "      <td>6.123760e-02</td>\n",
       "    </tr>\n",
       "    <tr>\n",
       "      <td>what_matters_most_to_you_in_choosing_a_course</td>\n",
       "      <td>5.569131e-02</td>\n",
       "    </tr>\n",
       "    <tr>\n",
       "      <td>lead_origin</td>\n",
       "      <td>5.559875e-02</td>\n",
       "    </tr>\n",
       "    <tr>\n",
       "      <td>how_did_you_hear_about_x_education</td>\n",
       "      <td>4.773990e-02</td>\n",
       "    </tr>\n",
       "    <tr>\n",
       "      <td>specialization</td>\n",
       "      <td>3.784505e-02</td>\n",
       "    </tr>\n",
       "    <tr>\n",
       "      <td>city</td>\n",
       "      <td>3.601412e-02</td>\n",
       "    </tr>\n",
       "    <tr>\n",
       "      <td>asymmetrique_activity_index</td>\n",
       "      <td>1.161577e-02</td>\n",
       "    </tr>\n",
       "    <tr>\n",
       "      <td>asymmetrique_profile_index</td>\n",
       "      <td>8.982885e-03</td>\n",
       "    </tr>\n",
       "    <tr>\n",
       "      <td>do_not_email</td>\n",
       "      <td>8.910986e-03</td>\n",
       "    </tr>\n",
       "    <tr>\n",
       "      <td>country</td>\n",
       "      <td>4.983645e-03</td>\n",
       "    </tr>\n",
       "    <tr>\n",
       "      <td>a_free_copy_of_mastering_the_interview</td>\n",
       "      <td>7.452385e-04</td>\n",
       "    </tr>\n",
       "    <tr>\n",
       "      <td>through_recommendations</td>\n",
       "      <td>1.505137e-04</td>\n",
       "    </tr>\n",
       "    <tr>\n",
       "      <td>digital_advertisement</td>\n",
       "      <td>1.307250e-04</td>\n",
       "    </tr>\n",
       "    <tr>\n",
       "      <td>newspaper_article</td>\n",
       "      <td>1.298057e-04</td>\n",
       "    </tr>\n",
       "    <tr>\n",
       "      <td>do_not_call</td>\n",
       "      <td>1.298057e-04</td>\n",
       "    </tr>\n",
       "    <tr>\n",
       "      <td>newspaper</td>\n",
       "      <td>6.535683e-05</td>\n",
       "    </tr>\n",
       "    <tr>\n",
       "      <td>search</td>\n",
       "      <td>1.204580e-06</td>\n",
       "    </tr>\n",
       "    <tr>\n",
       "      <td>get_updates_on_dm_content</td>\n",
       "      <td>7.771561e-16</td>\n",
       "    </tr>\n",
       "    <tr>\n",
       "      <td>i_agree_to_pay_the_amount_through_cheque</td>\n",
       "      <td>7.771561e-16</td>\n",
       "    </tr>\n",
       "    <tr>\n",
       "      <td>update_me_on_supply_chain_content</td>\n",
       "      <td>7.771561e-16</td>\n",
       "    </tr>\n",
       "    <tr>\n",
       "      <td>magazine</td>\n",
       "      <td>7.771561e-16</td>\n",
       "    </tr>\n",
       "    <tr>\n",
       "      <td>receive_more_updates_about_our_courses</td>\n",
       "      <td>7.771561e-16</td>\n",
       "    </tr>\n",
       "    <tr>\n",
       "      <td>x_education_forums</td>\n",
       "      <td>7.771561e-16</td>\n",
       "    </tr>\n",
       "  </tbody>\n",
       "</table>\n",
       "</div>"
      ],
      "text/plain": [
       "                                                         MI\n",
       "prospect_id                                    6.655694e-01\n",
       "tags                                           3.769913e-01\n",
       "lead_quality                                   1.861223e-01\n",
       "lead_profile                                   1.138871e-01\n",
       "what_is_your_current_occupation                9.238140e-02\n",
       "last_activity                                  8.462909e-02\n",
       "last_notable_activity                          7.251663e-02\n",
       "lead_source                                    6.123760e-02\n",
       "what_matters_most_to_you_in_choosing_a_course  5.569131e-02\n",
       "lead_origin                                    5.559875e-02\n",
       "how_did_you_hear_about_x_education             4.773990e-02\n",
       "specialization                                 3.784505e-02\n",
       "city                                           3.601412e-02\n",
       "asymmetrique_activity_index                    1.161577e-02\n",
       "asymmetrique_profile_index                     8.982885e-03\n",
       "do_not_email                                   8.910986e-03\n",
       "country                                        4.983645e-03\n",
       "a_free_copy_of_mastering_the_interview         7.452385e-04\n",
       "through_recommendations                        1.505137e-04\n",
       "digital_advertisement                          1.307250e-04\n",
       "newspaper_article                              1.298057e-04\n",
       "do_not_call                                    1.298057e-04\n",
       "newspaper                                      6.535683e-05\n",
       "search                                         1.204580e-06\n",
       "get_updates_on_dm_content                      7.771561e-16\n",
       "i_agree_to_pay_the_amount_through_cheque       7.771561e-16\n",
       "update_me_on_supply_chain_content              7.771561e-16\n",
       "magazine                                       7.771561e-16\n",
       "receive_more_updates_about_our_courses         7.771561e-16\n",
       "x_education_forums                             7.771561e-16"
      ]
     },
     "execution_count": 84,
     "metadata": {},
     "output_type": "execute_result"
    }
   ],
   "source": [
    "#get mutual info of all categorical variables\n",
    "#... most useful, ... least useful variable\n",
    "from sklearn.metrics import mutual_info_score\n",
    "\n",
    "#this function calculates mutual information\n",
    "def calculate_mi(series):\n",
    "    return mutual_info_score(series, df_train_full.converted)\n",
    "\n",
    "df_mi = df_train_full[categorical].apply(calculate_mi)\n",
    "df_mi = df_mi.sort_values(ascending=False).to_frame(name='MI')\n",
    "df_mi"
   ]
  },
  {
   "cell_type": "code",
   "execution_count": null,
   "metadata": {},
   "outputs": [],
   "source": []
  }
 ],
 "metadata": {
  "kernelspec": {
   "display_name": "Python 3",
   "language": "python",
   "name": "python3"
  },
  "language_info": {
   "codemirror_mode": {
    "name": "ipython",
    "version": 3
   },
   "file_extension": ".py",
   "mimetype": "text/x-python",
   "name": "python",
   "nbconvert_exporter": "python",
   "pygments_lexer": "ipython3",
   "version": "3.7.4"
  }
 },
 "nbformat": 4,
 "nbformat_minor": 2
}
